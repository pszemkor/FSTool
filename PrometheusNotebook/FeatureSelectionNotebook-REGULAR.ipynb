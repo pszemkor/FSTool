{
 "cells": [
  {
   "cell_type": "code",
   "execution_count": 1,
   "metadata": {},
   "outputs": [],
   "source": [
    "from warnings import filterwarnings\n",
    "filterwarnings('ignore')\n",
    "\n",
    "import pandas as pd\n",
    "import numpy as np\n",
    "\n",
    "%matplotlib inline\n",
    "import matplotlib.pyplot as plt\n",
    "import seaborn as sns\n",
    "from sklearn.ensemble import ExtraTreesClassifier\n",
    "from sklearn.ensemble import RandomForestClassifier\n",
    "from sklearn.metrics import accuracy_score, f1_score, recall_score\n",
    "from sklearn.model_selection import GridSearchCV\n",
    "from sklearn.model_selection import train_test_split\n",
    "from sklearn.neural_network import MLPClassifier\n",
    "from sklearn.svm import SVC\n",
    "from sklearn.neighbors import KNeighborsClassifier\n",
    "\n",
    "from random import sample\n",
    "from collections import defaultdict\n",
    "from statistics import median\n",
    "from pandarallel import pandarallel\n",
    "import csv"
   ]
  },
  {
   "cell_type": "code",
   "execution_count": 3,
   "metadata": {},
   "outputs": [
    {
     "data": {
      "text/plain": [
       "array(['F', 'F', 'M', 'F', 'M', 'F', 'F', 'M', 'F', 'F', 'F', 'F', 'M',\n",
       "       'F', 'F', 'F', 'M', 'F', 'F', 'F', 'F', 'F', 'M', 'M', 'F', 'M',\n",
       "       'F', 'F', 'F', 'F', 'F', 'F', 'F', 'F', 'F', 'M', 'M', 'M', 'M',\n",
       "       'F', 'F', 'F', 'F', 'M', 'F', 'M', 'M', 'M', 'F', 'M', 'M'],\n",
       "      dtype=object)"
      ]
     },
     "execution_count": 3,
     "metadata": {},
     "output_type": "execute_result"
    }
   ],
   "source": [
    "df = pd.read_csv('../data/healthy/data.csv')  \n",
    "target = 'SEX'\n",
    "\n",
    "#remove ABS from dataset\n",
    "cols = [c for c in df.columns if c.lower()[:3] != 'abs']\n",
    "df=df[cols]\n",
    "\n",
    "labels = df[target].values\n",
    "del df[target]\n",
    "df = df[df.select_dtypes([np.number]).columns].dropna(axis=1)\n",
    "labels"
   ]
  },
  {
   "cell_type": "code",
   "execution_count": 79,
   "metadata": {},
   "outputs": [],
   "source": [
    "def get_best_k_features(forest, train_features, k, plot=True):\n",
    "    importances = forest.feature_importances_\n",
    "    indices = np.argsort(importances)[::-1]\n",
    "\n",
    "\n",
    "    # std = np.std([tree.feature_importances_ for tree in forest.estimators_],\n",
    "    #              axis=0)\n",
    "\n",
    "    print(\"*************** Features ranking ***************\")\n",
    "    x = []\n",
    "    y = []\n",
    "    i = 0\n",
    "    for f in range(train_features.shape[1]):\n",
    "        if i == k:\n",
    "            break\n",
    "        i += 1\n",
    "        print(\"%d. feature: %s (%f)\" % (f + 1, train_features.columns[indices[f]], importances[indices[f]]))\n",
    "        x.append(train_features.columns[indices[f]])\n",
    "        y.append(importances[indices[f]])\n",
    "\n",
    "    if plot:\n",
    "        x_pos = [i for i, _ in enumerate(x)]\n",
    "        plt.barh(x_pos, y, color='green')\n",
    "        # xerr=std**2\n",
    "        plt.ylabel(\"Feature\")\n",
    "        plt.xlabel(\"Importance\")\n",
    "        plt.title(str(k) + \" selected features\")\n",
    "        plt.yticks(x_pos, x)\n",
    "        plt.show()\n",
    "\n",
    "    return x"
   ]
  },
  {
   "cell_type": "code",
   "execution_count": 80,
   "metadata": {},
   "outputs": [],
   "source": [
    "def check_classifiers(data, labels, requested_classifiers):\n",
    "    X_train, X_test, Y_train, Y_test = train_test_split(data, labels,\n",
    "                                                        test_size=0.2,\n",
    "                                                        random_state=42)\n",
    "    result = []\n",
    "\n",
    "    classifiers = {\"svm\": SVC(), \"nn\": MLPClassifier(), \"rf\": RandomForestClassifier()}\n",
    "    svm_params = {'kernel': ('linear', 'rbf', 'sigmoid', 'poly'),\n",
    "                  'C': [.001, .01, .1, .5, 1, 2, 5, 10]}\n",
    "\n",
    "    nn_params = {'activation': ['relu', 'tanh', 'logistic'],\n",
    "                 'hidden_layer_sizes': [(100,), (10, 50, 2), (50, 100, 2)],\n",
    "                 'solver': ['adam'],\n",
    "                 'learning_rate': ['adaptive'],\n",
    "                 'warm_start': [True, False]}\n",
    "\n",
    "    rf_params = {'n_estimators': [100, 200, 300, 400, 500],\n",
    "                 'criterion': ['gini', 'entropy']}\n",
    "    cls_params = {'svm': svm_params, 'rf': rf_params, 'nn': nn_params}\n",
    "\n",
    "    for k, v in classifiers.items():\n",
    "        if k not in requested_classifiers:\n",
    "            continue\n",
    "        cv = GridSearchCV(v, cls_params[k], cv=5)\n",
    "        cv.fit(X_train, Y_train)\n",
    "        pred = cv.predict(X_test)\n",
    "        print(\"***** {} *****\".format(k))\n",
    "        f1 = f1_score(Y_test, pred, average=\"macro\")\n",
    "        accuracy = accuracy_score(Y_test, pred)\n",
    "        recall = recall_score(Y_test, pred, average=\"macro\")\n",
    "        c_res = ClassificationResult(k, round(accuracy, 4), round(f1, 4), round(recall, 4))\n",
    "        print(c_res)\n",
    "        result.append(c_res)\n",
    "#         save_classifier(cv, data, k)\n",
    "    return result"
   ]
  },
  {
   "cell_type": "code",
   "execution_count": 81,
   "metadata": {},
   "outputs": [],
   "source": [
    "class CorrelationBasedFS:\n",
    "    def __init__(self, kind):\n",
    "        self.kind = kind\n",
    "\n",
    "    # todo: select ONLY k features\n",
    "    def execute(self, data, k, labels, requested_classifiers):\n",
    "        cols = self.correlation_based_fs(self.kind, data)\n",
    "        selected_features = []\n",
    "        classification_results = check_classifiers(data[cols], labels, requested_classifiers)\n",
    "        for i, f in enumerate(cols):\n",
    "            # todo write correlation as score\n",
    "            selected_features.append(SelectedFeature(i, f, 1))\n",
    "        # todo: fill diagrams\n",
    "        diagrams = []\n",
    "        return selected_features, diagrams, classification_results\n",
    "\n",
    "    def correlation_based_fs(self, method, data, threshold=0.9):\n",
    "        corr = data.corr(method=method)\n",
    "        to_drop = []\n",
    "        for i, f1 in enumerate(data.columns):\n",
    "            for j, f2 in enumerate(data.columns):\n",
    "                if i > j and abs(corr.iloc[i, j]) > threshold:\n",
    "                    to_drop.append(f1)\n",
    "\n",
    "        # todo: handle this heatmap in a separate thread\n",
    "        # plt.subplots(figsize=(50, 50))\n",
    "        # sns.heatmap(corr, vmax=1.0, center=0, square=True, linewidths=.5, cbar_kws={\"shrink\": .70})\n",
    "        # plt.show()\n",
    "        return list(set(data.columns) - set(to_drop))\n",
    "\n",
    "\n",
    "class RandomForestFS:\n",
    "    def execute(self, data, k, labels, requested_classifiers):\n",
    "        forest = ExtraTreesClassifier(n_estimators=250, random_state=0)\n",
    "        train_features, test_features, train_labels, test_labels = train_test_split(data, labels,\n",
    "                                                                                    test_size=0.2,\n",
    "                                                                                    random_state=42)\n",
    "        forest.fit(train_features, train_labels)\n",
    "        selected_features, image_path = get_best_k_features(forest, train_features, k)\n",
    "        columns = list(map(lambda sf: sf.name, selected_features))\n",
    "        classification_results = check_classifiers(data[columns], labels, requested_classifiers)\n",
    "        diagrams = [ResultImg(\"plt\", image_path)]\n",
    "        return selected_features, diagrams, classification_results"
   ]
  },
  {
   "cell_type": "code",
   "execution_count": 82,
   "metadata": {},
   "outputs": [],
   "source": [
    "class CommandExecutor:\n",
    "    def __init__(self):\n",
    "        self.available_classifiers = ['svm', 'nn', 'rf']\n",
    "        # todo: move this mapping to frontend\n",
    "        self.available_cmds = {'RF': RandomForestFS(),\n",
    "                               'Spearman\\'s correlation': CorrelationBasedFS('spearman'),\n",
    "                               'Kendall correlation': CorrelationBasedFS('kendall'),\n",
    "                               'Pearson correlation': CorrelationBasedFS('pearson')}\n",
    "\n",
    "    def execute(self, data, target, k, labels, algorithm_name):\n",
    "        requested_classifiers = self.available_classifiers\n",
    "        cmd = self.available_cmds[algorithm_name]\n",
    "        selected_features, diagrams, cv_results = cmd.execute(data, k, labels, requested_classifiers)\n",
    "        return FSResponse(algorithm_name, diagrams, selected_features, cv_results)"
   ]
  },
  {
   "cell_type": "code",
   "execution_count": 83,
   "metadata": {},
   "outputs": [],
   "source": [
    "class ResultImg:\n",
    "    def __init__(self, name, image):\n",
    "        self.name = name\n",
    "        self.image = image\n",
    "\n",
    "class FSResponse:\n",
    "    def __init__(self, algoName, resultImgs, featuresRank, classificationResults):\n",
    "        self.algoName = algoName\n",
    "        self.resultImgs = resultImgs\n",
    "        self.featuresRank = featuresRank\n",
    "        self.classificationResults = classificationResults\n",
    "\n",
    "    def toJSON(self):\n",
    "        return json.dumps(self, default=lambda o: o.__dict__,\n",
    "                          sort_keys=True, indent=4)\n",
    "    \n",
    "class SelectedFeature:\n",
    "    def __init__(self, index, name, score):\n",
    "        self.index = index\n",
    "        self.name = name\n",
    "        self.score = score\n",
    "        \n",
    "class ClassificationResult:\n",
    "    def __init__(self, clfName, accuracy, f1, recall):\n",
    "        self.clfName = clfName\n",
    "        self.accuracy = accuracy\n",
    "        self.f1 = accuracy\n",
    "        self.recall = recall\n",
    "        \n",
    "    def __str__(self):\n",
    "        return \"Classifier: {}; Accuracy: {}; F1: {}; Recall: {}\".format(self.clfName, self.accuracy,self.f1, self.recall)\n"
   ]
  },
  {
   "cell_type": "code",
   "execution_count": 84,
   "metadata": {},
   "outputs": [],
   "source": [
    "def get_best_k_features(forest, train_features, k, plot=True):\n",
    "    importances = forest.feature_importances_\n",
    "    indices = np.argsort(importances)[::-1]\n",
    "\n",
    "    # std = np.std([tree.feature_importances_ for tree in forest.estimators_],\n",
    "    #              axis=0)\n",
    "\n",
    "    print(\"*************** Features ranking ***************\")\n",
    "    selected_features = []\n",
    "    x = []\n",
    "    y = []\n",
    "    i = 0\n",
    "    for f in range(train_features.shape[1]):\n",
    "        if i == k:\n",
    "            break\n",
    "        i += 1\n",
    "        print(\"%d. feature: %s (%f)\" % (f + 1, train_features.columns[indices[f]], importances[indices[f]]))\n",
    "        x.append(train_features.columns[indices[f]])\n",
    "        y.append(importances[indices[f]])\n",
    "        selected_features.append(SelectedFeature(i, train_features.columns[indices[f]], importances[indices[f]]))\n",
    "\n",
    "    if plot:\n",
    "        x_pos = [i for i, _ in enumerate(x)]\n",
    "        plt.barh(x_pos, y, color='green')\n",
    "        # xerr=std**2\n",
    "        plt.ylabel(\"Feature\")\n",
    "        plt.xlabel(\"Importance\")\n",
    "        plt.title(str(k) + \" selected features\")\n",
    "        plt.yticks(x_pos, x)\n",
    "        # plt.savefig(r'rf_plot.png')\n",
    "    return selected_features, '/assets/img/rf_plot.png'"
   ]
  },
  {
   "cell_type": "code",
   "execution_count": 85,
   "metadata": {},
   "outputs": [
    {
     "name": "stdout",
     "output_type": "stream",
     "text": [
      "*************** Features ranking ***************\n",
      "1. feature: CD16-/CD56-/CD3+/CD117+ (0.036442)\n",
      "2. feature: CD19+/CD86+ (0.027811)\n",
      "3. feature: CD8- / CD127- / CD4+ / CD25+ (0.026584)\n",
      "4. feature: CD4+/CD25+/CD127- (0.025189)\n",
      "5. feature: CD3+/HLA DR+ (0.024168)\n",
      "6. feature: CD8+/CD25+ (0.019792)\n",
      "***** svm *****\n",
      "Classifier: svm; Accuracy: 0.6667; F1: 0.6667; Recall: 0.625\n",
      "***** nn *****\n",
      "Classifier: nn; Accuracy: 0.5556; F1: 0.5556; Recall: 0.55\n",
      "***** rf *****\n",
      "Classifier: rf; Accuracy: 0.6667; F1: 0.6667; Recall: 0.65\n"
     ]
    },
    {
     "data": {
      "text/plain": [
       "<__main__.FSResponse at 0x2adb50cdfd30>"
      ]
     },
     "execution_count": 85,
     "metadata": {},
     "output_type": "execute_result"
    },
    {
     "data": {
      "image/png": "[encoded data removed]",
      "text/plain": [
       "<Figure size 432x288 with 1 Axes>"
      ]
     },
     "metadata": {
      "needs_background": "light"
     },
     "output_type": "display_data"
    }
   ],
   "source": [
    "######## SEKCJA TESTOWANIA NOWYCH DANYCH #####################\n",
    "cases = pd.read_csv('fvl_cases.csv', index_col=False)\n",
    "controls = pd.read_csv('fvl_controls.csv', index_col=False)  \n",
    "del cases['Unnamed: 0']\n",
    "del controls['Unnamed: 0']\n",
    "controls['Label'] = 1\n",
    "cases['Label'] = 0\n",
    "df = pd.concat([cases, controls])\n",
    "df.reset_index(drop=True, inplace=True)\n",
    "labels = df['Label']\n",
    "df = df.drop(['Label'], axis=1)\n",
    "executor = CommandExecutor()\n",
    "executor.execute(df, 'Label', 6, labels, 'RF')\n"
   ]
  },
  {
   "cell_type": "markdown",
   "metadata": {},
   "source": [
    "# Feature selection and classification benchmark"
   ]
  },
  {
   "cell_type": "code",
   "execution_count": 151,
   "metadata": {},
   "outputs": [],
   "source": [
    "N_SPLITS = 5\n",
    "RANDOM_STATE = 10"
   ]
  },
  {
   "cell_type": "code",
   "execution_count": 152,
   "metadata": {},
   "outputs": [],
   "source": [
    "class FeatureSelector:\n",
    "    \"\"\"Extracts subset of most informative features and provides rank of all features from train samples.\"\"\"\n",
    "    def __init__(self, name):\n",
    "        self.name = name\n",
    "        self.features = features\n",
    "        \n",
    "    def get_features_rank():\n",
    "        return self.features_rank\n",
    "    \n",
    "    def get_features_subset():\n",
    "        return self.features_subset"
   ]
  },
  {
   "cell_type": "code",
   "execution_count": 153,
   "metadata": {},
   "outputs": [],
   "source": [
    "class RandomForestSelector(FeatureSelector):\n",
    "    def __init__(self, n_estimators=200):\n",
    "        super().__init__('RandomForestSelector')\n",
    "        self.forest = ExtraTreesClassifier(n_estimators=n_estimators, random_state=RANDOM_STATE)\n",
    "        \n",
    "    def fit(self, X_train, y_train):\n",
    "        self.forest.fit(X_train, y_train)\n",
    "        \n",
    "    def get_rank(self):\n",
    "        return self.forest.feature_importances_"
   ]
  },
  {
   "cell_type": "code",
   "execution_count": 158,
   "metadata": {},
   "outputs": [],
   "source": [
    "class FeatureSelectorsAggregator:\n",
    "    \"\"\"Aggregates partial feature selections obtained from FeatureSelectors.\"\"\"\n",
    "    def __init__(self, feature_selectors):\n",
    "        self.name = 'FeatureSelectorsAggregator'\n",
    "        self.feature_selectors = feature_selectors\n",
    "        \n",
    "    def get_features_rank(self):\n",
    "        return self.features_rank\n",
    "    \n",
    "    def get_features_subset(self):\n",
    "        return self.features_subset\n",
    "    \n",
    "    def fit(self, X_train, y_train):\n",
    "        for f_selector in self.feature_selectors:\n",
    "            f_selector.fit(X_train, y_train)\n",
    "    \n",
    "    def get_ranks(self):\n",
    "        ranks = []\n",
    "        for f_selector in self.feature_selectors:\n",
    "            ranks.append(f_selector.get_rank())\n",
    "        return ranks"
   ]
  },
  {
   "cell_type": "code",
   "execution_count": 159,
   "metadata": {},
   "outputs": [],
   "source": [
    "from sklearn.model_selection import StratifiedKFold\n",
    "\n",
    "class CVEvaluator:\n",
    "    \"\"\"Evaluate performance of feature selection and classification model with leave-one-out cross validation\n",
    "        with n subsets (folds) of the whole dataset. For each iteration find the best classificator\n",
    "        for current train/test split by performing GridSearchCV on the current train data and asses its performance\n",
    "        on current test set. The results for each split are averaged and are the approximation of the performance\n",
    "        of the final model.\n",
    "            \n",
    "        If n = 1, the best model is created by selecting features with FeatureSelectorsAggregator\n",
    "        and performing GridSearchCV on the whole dataset to find the most accurate/sensitive classifier.\n",
    "        \"\"\"\n",
    "    def __init__(self, n_splits, fs_aggregator, labels, features, data):\n",
    "        \"\"\"\n",
    "        Init CVEvaluator.\n",
    "\n",
    "        Args:\n",
    "            n_splits: Number of subsets.\n",
    "            fs_aggregator: FeatureSelectorsAggregator for feature selection at each split.\n",
    "            labels: list of strings representing labels.\n",
    "            features: list of feature names. Must match count of colums in data dataframe.\n",
    "            data: Pandas dataframe containing samples in rows with len(features) columns each.\n",
    "        \"\"\"\n",
    "        self.n_splits = n_splits\n",
    "        self.fs_aggregator = fs_aggregator\n",
    "        self.labels = labels\n",
    "        self.features = features\n",
    "        self.data = data\n",
    "        \n",
    "    def perform_evaluation(self):\n",
    "        skf = StratifiedKFold(n_splits=self.n_splits, random_state=RANDOM_STATE, shuffle=True)\n",
    "        for train_index, test_index in skf.split(self.data, self.labels):\n",
    "            X_train, X_test = self.data[self.data.index.isin(train_index)], self.data[self.data.index.isin(test_index)]\n",
    "            y_train, y_test = [self.labels[i] for i in train_index], [self.labels[i] for i in test_index]\n",
    "            \n",
    "            self.fs_aggregator.fit(X_train, y_train)\n",
    "            print(\"Another rank:\", len(self.fs_aggregator.get_ranks()))\n",
    "            "
   ]
  },
  {
   "cell_type": "code",
   "execution_count": 160,
   "metadata": {},
   "outputs": [],
   "source": [
    "df = pd.read_csv('../data/healthy/data.csv')  \n",
    "target = 'SEX'\n",
    "\n",
    "#remove ABS from dataset\n",
    "cols = [c for c in df.columns if c.lower()[:3] != 'abs']\n",
    "df=df[cols]\n",
    "\n",
    "labels = list(df[target].values)\n",
    "del df[target]\n",
    "df = df[df.select_dtypes([np.number]).columns].dropna(axis=1)"
   ]
  },
  {
   "cell_type": "code",
   "execution_count": 161,
   "metadata": {},
   "outputs": [
    {
     "name": "stdout",
     "output_type": "stream",
     "text": [
      "Another rank: 1\n",
      "Another rank: 1\n",
      "Another rank: 1\n",
      "Another rank: 1\n",
      "Another rank: 1\n"
     ]
    }
   ],
   "source": [
    "features = list(df.columns)\n",
    "\n",
    "f_selectors = [\n",
    "    RandomForestSelector()\n",
    "]\n",
    "\n",
    "fs_aggregator = FeatureSelectorsAggregator(f_selectors)\n",
    "\n",
    "cv_evaluator = CVEvaluator(N_SPLITS, fs_aggregator, labels, features, df)\n",
    "cv_evaluator.perform_evaluation()"
   ]
  },
  {
   "cell_type": "code",
   "execution_count": null,
   "metadata": {},
   "outputs": [],
   "source": []
  },
  {
   "cell_type": "code",
   "execution_count": null,
   "metadata": {},
   "outputs": [],
   "source": []
  }
 ],
 "metadata": {
  "kernelspec": {
   "display_name": "Python 3",
   "language": "python",
   "name": "python3"
  },
  "language_info": {
   "codemirror_mode": {
    "name": "ipython",
    "version": 3
   },
   "file_extension": ".py",
   "mimetype": "text/x-python",
   "name": "python",
   "nbconvert_exporter": "python",
   "pygments_lexer": "ipython3",
   "version": "3.8.2"
  }
 },
 "nbformat": 4,
 "nbformat_minor": 2
}
